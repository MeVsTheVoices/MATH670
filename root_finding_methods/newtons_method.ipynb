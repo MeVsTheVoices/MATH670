{
 "cells": [
  {
   "cell_type": "code",
   "execution_count": 2,
   "metadata": {},
   "outputs": [
    {
     "data": {
      "text/plain": [
       "0.0009765625"
      ]
     },
     "execution_count": 2,
     "metadata": {},
     "output_type": "execute_result"
    }
   ],
   "source": [
    "from typing import Callable, Optional\n",
    "\n",
    "def newtons_method(\n",
    "        fOfX : Callable[[float], float],\n",
    "        dfOfX : Callable[[float], float],\n",
    "        guess : float,\n",
    "        maxIterations : int = 100,\n",
    "        maxError : float = 1e-6) -> Optional[float]:\n",
    "\n",
    "    def formula() -> float:\n",
    "        return guess - (fOfX(guess) / dfOfX(guess))\n",
    "\n",
    "    if maxIterations == 0 and fOfX(guess) > maxError:\n",
    "        return None\n",
    "    elif fOfX(guess) < maxError:\n",
    "        return guess\n",
    "    else:\n",
    "        return newtons_method(fOfX, dfOfX, formula(), maxIterations - 1, maxError)\n",
    "\n",
    "guess = newtons_method(\n",
    "    fOfX = lambda x : x ** 2,\n",
    "    dfOfX = lambda x : 2 * x,\n",
    "    guess = 1\n",
    ")\n",
    "\n"
   ]
  }
 ],
 "metadata": {
  "kernelspec": {
   "display_name": "Python 3",
   "language": "python",
   "name": "python3"
  },
  "language_info": {
   "codemirror_mode": {
    "name": "ipython",
    "version": 3
   },
   "file_extension": ".py",
   "mimetype": "text/x-python",
   "name": "python",
   "nbconvert_exporter": "python",
   "pygments_lexer": "ipython3",
   "version": "3.12.5"
  }
 },
 "nbformat": 4,
 "nbformat_minor": 2
}
