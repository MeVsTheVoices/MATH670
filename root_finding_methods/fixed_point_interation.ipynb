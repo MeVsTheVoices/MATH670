{
 "cells": [
  {
   "cell_type": "code",
   "execution_count": 17,
   "metadata": {},
   "outputs": [],
   "source": [
    "import numpy as np\n",
    "from typing import Callable, Optional, Tuple\n",
    "\n",
    "def fixed_point_iteration(\n",
    "        g_of_p : Callable[[float], float],\n",
    "        approximation : float,\n",
    "        tolerance : float = 10e-4,\n",
    "        max_iterations : int = 100) -> Optional[Tuple[float, Optional[list[float]]]]:\n",
    "\n",
    "    guesses = []\n",
    "    guesses.append(approximation)\n",
    "    for _ in range(max_iterations):\n",
    "        new_approximation = g_of_p(approximation)\n",
    "        guesses.append(new_approximation)\n",
    "        if abs(new_approximation - approximation) < tolerance:\n",
    "            return new_approximation, guesses\n",
    "        approximation = new_approximation\n",
    "    return None\n",
    "\n",
    "\n"
   ]
  },
  {
   "cell_type": "code",
   "execution_count": 20,
   "metadata": {},
   "outputs": [
    {
     "name": "stdout",
     "output_type": "stream",
     "text": [
      "[1.5, np.float64(1.286953767623375), np.float64(1.4025408035395783), np.float64(1.3454583740232942), np.float64(1.3751702528160383), np.float64(1.360094192761733), np.float64(1.3678469675921328), np.float64(1.3638870038840212), np.float64(1.36591673339004), np.float64(1.364878217193677), np.float64(1.365410061169957)]\n"
     ]
    }
   ],
   "source": [
    "g_of_p = lambda x : (1/2) * np.sqrt(10 - (x ** 3))\n",
    "approximation = 1.5\n",
    "\n",
    "fixed_point, guesses = fixed_point_iteration(\n",
    "    g_of_p = g_of_p, \n",
    "    approximation = approximation)\n",
    "\n",
    "print(guesses)"
   ]
  }
 ],
 "metadata": {
  "kernelspec": {
   "display_name": ".venv",
   "language": "python",
   "name": "python3"
  },
  "language_info": {
   "codemirror_mode": {
    "name": "ipython",
    "version": 3
   },
   "file_extension": ".py",
   "mimetype": "text/x-python",
   "name": "python",
   "nbconvert_exporter": "python",
   "pygments_lexer": "ipython3",
   "version": "3.12.3"
  }
 },
 "nbformat": 4,
 "nbformat_minor": 2
}
