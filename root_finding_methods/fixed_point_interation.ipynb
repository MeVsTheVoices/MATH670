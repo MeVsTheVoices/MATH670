{
 "cells": [
  {
   "cell_type": "code",
   "execution_count": 2,
   "metadata": {},
   "outputs": [],
   "source": [
    "import numpy as np\n",
    "from typing import Callable, Optional, Tuple\n",
    "\n",
    "def fixed_point_iteration(\n",
    "        g_of_p : Callable[[float], float],\n",
    "        approximation : float,\n",
    "        tolerance : float = 10e-4,\n",
    "        max_iterations : int = 100) -> Optional[Tuple[float, Optional[list[float]]]]:\n",
    "\n",
    "    guesses = []\n",
    "    guesses.append(approximation)\n",
    "    for _ in range(max_iterations):\n",
    "        new_approximation = g_of_p(approximation)\n",
    "        guesses.append(new_approximation)\n",
    "        if abs(new_approximation - approximation) < tolerance:\n",
    "            return new_approximation, guesses\n",
    "        approximation = new_approximation\n",
    "    return None\n",
    "\n",
    "\n"
   ]
  },
  {
   "cell_type": "code",
   "execution_count": 3,
   "metadata": {},
   "outputs": [
    {
     "name": "stdout",
     "output_type": "stream",
     "text": [
      "[1.5, np.float64(1.286953767623375), np.float64(1.4025408035395783), np.float64(1.3454583740232942), np.float64(1.3751702528160383), np.float64(1.360094192761733), np.float64(1.3678469675921328), np.float64(1.3638870038840212), np.float64(1.36591673339004), np.float64(1.364878217193677), np.float64(1.365410061169957)]\n",
      "1.365410061169957\n"
     ]
    }
   ],
   "source": [
    "g_of_p = lambda x : (1/2) * np.sqrt(10 - (x ** 3))\n",
    "approximation = 1.5\n",
    "\n",
    "fixed_point, guesses = fixed_point_iteration(\n",
    "    g_of_p = g_of_p, \n",
    "    approximation = approximation)\n",
    "\n",
    "print(guesses)\n",
    "print(fixed_point)"
   ]
  },
  {
   "cell_type": "code",
   "execution_count": 4,
   "metadata": {},
   "outputs": [
    {
     "name": "stdout",
     "output_type": "stream",
     "text": [
      "[0.7853981633974483, np.float64(0.7071067811865476), np.float64(0.7602445970756301), np.float64(0.7246674808891262), np.float64(0.7487198857894842), np.float64(0.7325608445922418), np.float64(0.7434642113152937), np.float64(0.7361282565008519), np.float64(0.7410736870837102), np.float64(0.7377441589925746), np.float64(0.7399877647958709), np.float64(0.7384768087245538), np.float64(0.7394947711319744), np.float64(0.7388091341840698)]\n",
      "0.7388091341840698\n",
      "(6654601082818591, 9007199254740992)\n"
     ]
    }
   ],
   "source": [
    "g_of_p = lambda x : np.cos(x)\n",
    "approximation = np.pi / 4\n",
    "\n",
    "fixed_point, guesses = fixed_point_iteration(\n",
    "    g_of_p = g_of_p,\n",
    "    approximation = approximation\n",
    ")\n",
    "\n",
    "print(guesses)\n",
    "print(fixed_point)\n",
    "print(fixed_point.as_integer_ratio())"
   ]
  },
  {
   "cell_type": "code",
   "execution_count": 10,
   "metadata": {},
   "outputs": [
    {
     "name": "stdout",
     "output_type": "stream",
     "text": [
      "The initial guess is 8\n",
      "The 1th iteration is 8.317766166719343\n",
      "The 2th iteration is 8.473574916825344\n",
      "The 3th iteration is 8.547809950881769\n",
      "The 4th iteration is 8.582700416167821\n",
      "The 5th iteration is 8.598994391202663\n",
      "The 6th iteration is 8.606581060667862\n",
      "The 7th iteration is 8.610108600901835\n",
      "The 8th iteration is 8.611747726821012\n"
     ]
    },
    {
     "ename": "TypeError",
     "evalue": "cannot unpack non-iterable numpy.float64 object",
     "output_type": "error",
     "traceback": [
      "\u001b[0;31m---------------------------------------------------------------------------\u001b[0m",
      "\u001b[0;31mTypeError\u001b[0m                                 Traceback (most recent call last)",
      "Cell \u001b[0;32mIn[10], line 26\u001b[0m\n\u001b[1;32m     23\u001b[0m tolerance \u001b[38;5;241m=\u001b[39m \u001b[38;5;241m10e-4\u001b[39m\n\u001b[1;32m     24\u001b[0m max_iterations \u001b[38;5;241m=\u001b[39m \u001b[38;5;241m1000\u001b[39m\n\u001b[0;32m---> 26\u001b[0m root, iterations \u001b[38;5;241m=\u001b[39m fixed_point_iteration(g, x0, tolerance, max_iterations)\n\u001b[1;32m     28\u001b[0m \u001b[38;5;28mprint\u001b[39m(\u001b[38;5;124mf\u001b[39m\u001b[38;5;124m\"\u001b[39m\u001b[38;5;124mRoot: \u001b[39m\u001b[38;5;132;01m{\u001b[39;00mroot\u001b[38;5;132;01m}\u001b[39;00m\u001b[38;5;124m\"\u001b[39m)\n\u001b[1;32m     29\u001b[0m \u001b[38;5;28mprint\u001b[39m(\u001b[38;5;124mf\u001b[39m\u001b[38;5;124m\"\u001b[39m\u001b[38;5;124mNumber of iterations: \u001b[39m\u001b[38;5;132;01m{\u001b[39;00miterations\u001b[38;5;132;01m}\u001b[39;00m\u001b[38;5;124m\"\u001b[39m)\n",
      "\u001b[0;31mTypeError\u001b[0m: cannot unpack non-iterable numpy.float64 object"
     ]
    }
   ],
   "source": [
    "import numpy as np\n",
    "import matplotlib.pyplot as plt\n",
    "\n",
    "def f(x):\n",
    "    return 4 * np.log(x) - x\n",
    "\n",
    "def fixed_point_iteration(g, x0, tolerance=1e-6, max_iterations=100):\n",
    "  x_prev = x0\n",
    "  print(\"The initial guess is {}\".format(x_prev))\n",
    "  for i in range(max_iterations):\n",
    "    x_new = g(x_prev)\n",
    "    if abs(x_new - x_prev) < tolerance:\n",
    "      return x_new\n",
    "    x_prev = x_new\n",
    "    print(\"The {}th iteration is {}\".format(i+1, x_new))\n",
    "  return None\n",
    "\n",
    "#Rearrange f(x) = 0 to x = g(x)  \n",
    "def g(x):\n",
    "    return 4 * np.log(x)\n",
    "\n",
    "x0 = 8  # Initial guess\n",
    "tolerance = 10e-4\n",
    "max_iterations = 1000\n",
    "\n",
    "root, iterations = fixed_point_iteration(g, x0, tolerance, max_iterations)\n",
    "\n",
    "print(f\"Root: {root}\")\n",
    "print(f\"Number of iterations: {iterations}\")\n",
    "\n",
    "#Plot\n",
    "x_vals = np.linspace(0.1, 10, 400)\n",
    "plt.plot(x_vals, f(x_vals), label='f(x)')\n",
    "plt.plot(x_vals, g(x_vals), label='g(x)')\n",
    "plt.axhline(y=0, color='k', linestyle='--')\n",
    "plt.axvline(x=root, color='r', linestyle='--', label=f'Root: {root:.4f}')\n",
    "plt.xlabel('x')\n",
    "plt.ylabel('y')\n",
    "plt.title('Fixed Point Iteration')\n",
    "plt.legend()\n",
    "plt.grid(True)\n",
    "plt.show()\n"
   ]
  }
 ],
 "metadata": {
  "kernelspec": {
   "display_name": ".venv",
   "language": "python",
   "name": "python3"
  },
  "language_info": {
   "codemirror_mode": {
    "name": "ipython",
    "version": 3
   },
   "file_extension": ".py",
   "mimetype": "text/x-python",
   "name": "python",
   "nbconvert_exporter": "python",
   "pygments_lexer": "ipython3",
   "version": "3.12.3"
  }
 },
 "nbformat": 4,
 "nbformat_minor": 2
}
