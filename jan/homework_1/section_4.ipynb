{
 "cells": [
  {
   "cell_type": "markdown",
   "metadata": {},
   "source": [
    "## Definintions\n",
    "### Intermediate value theorem\n",
    "\n",
    "Let $f$ be a continuous function defined on $[a, b]$, and let $s$ be a number such that $f(a) < s < f(b)$"
   ]
  }
 ],
 "metadata": {
  "language_info": {
   "name": "python"
  }
 },
 "nbformat": 4,
 "nbformat_minor": 2
}
