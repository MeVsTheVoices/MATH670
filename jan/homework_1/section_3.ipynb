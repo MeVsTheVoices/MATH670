{
  "cells": [
    {
      "cell_type": "markdown",
      "metadata": {},
      "source": [
        "# Section 3. Bisection method"
      ]
    },
    {
      "cell_type": "code",
      "execution_count": 1,
      "metadata": {},
      "outputs": [],
      "source": [
        "from typing import Callable\n",
        "from math import sin, log, exp\n",
        "\n",
        "def bisection_method(\n",
        "        f: Callable[[float], float],\n",
        "        a : float, \n",
        "        b : float,\n",
        "        tolerance : float) -> float:\n",
        "\n",
        "    if a == b and (not abs(f(a)) < tolerance):\n",
        "        return None\n",
        "\n",
        "    a, b = (a, b) if a < b else (b, a)\n",
        "\n",
        "    guesses : list[tuple[float, float]] = []\n",
        "\n",
        "    guess = bisect(a, b)\n",
        "    while abs(f(guess)) > tolerance:\n",
        "        guesses.append((guess, f(guess)))\n",
        "        if f(guess) > 0:\n",
        "            b = guess\n",
        "        elif f(guess) < 0:\n",
        "            a = guess\n",
        "        guess = bisect(a, b)\n",
        "            \n",
        "\n",
        "    return guesses\n",
        "\n",
        "\n",
        "def bisect(a : float, b : float) -> float:\n",
        "    return a + ((b - a) / 2)"
      ]
    },
    {
      "cell_type": "markdown",
      "metadata": {},
      "source": [
        "#### Question (i)\n",
        "\n",
        "**(i)** Find a bound for the number of iteration needed to achieve an approximation with accuracy $10^{-3}$ to the solution of $x^3+x-4=0$ on the interval $[1, 4]$. Find an approximation to the root with this degree of accuracy"
      ]
    },
    {
      "cell_type": "code",
      "execution_count": 6,
      "metadata": {},
      "outputs": [
        {
          "name": "stdout",
          "output_type": "stream",
          "text": [
            "Root found at 1.37939453125, valued: 0.004008884658105671\n",
            "Checking we're within tolerance...\n",
            "We're within tolerance\n"
          ]
        }
      ],
      "source": [
        "f_of_x = lambda x : x ** 3 + x - 4\n",
        "root = bisection_method(f_of_x, 1, 4, 10 ** -3)[-1][0]\n",
        "\n",
        "print(f\"Root found at {root}, valued: {f_of_x(root)}\")\n",
        "\n",
        "print(\"Checking we're within tolerance...\")\n",
        "\n",
        "if f_of_x(root) > 10 ** -3:\n",
        "    print(\"We're within tolerance\")\n",
        "else:\n",
        "    print(\"We're outside of tolerance\")"
      ]
    },
    {
      "cell_type": "markdown",
      "metadata": {},
      "source": [
        "We've found a root for the function at (1.37939453125, 0.004008884658105671)"
      ]
    }
  ],
  "metadata": {
    "colab": {
      "provenance": []
    },
    "kernelspec": {
      "display_name": ".venv",
      "language": "python",
      "name": "python3"
    },
    "language_info": {
      "codemirror_mode": {
        "name": "ipython",
        "version": 3
      },
      "file_extension": ".py",
      "mimetype": "text/x-python",
      "name": "python",
      "nbconvert_exporter": "python",
      "pygments_lexer": "ipython3",
      "version": "3.12.6"
    }
  },
  "nbformat": 4,
  "nbformat_minor": 0
}
