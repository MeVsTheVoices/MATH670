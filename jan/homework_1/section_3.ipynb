{
  "cells": [
    {
      "cell_type": "markdown",
      "metadata": {
        "id": "meYN05dUPB7j"
      },
      "source": [
        "This notebook is designed to guide you through plotting error for rootfinding methods.\n",
        "\n",
        "Please submit your answers to the questions below along with screenshots of the plots you make while working through this."
      ]
    },
    {
      "cell_type": "markdown",
      "metadata": {
        "id": "VEcJ23AV1Zwt"
      },
      "source": [
        "Let's continue working with the very simple equation $f(x) = x^2 -2$ with solution $p = \\sqrt{2}.$\n",
        "\n",
        "Since we know the exact solution to this equation, we can compare the exact answer to the value of the approximation at each iteration and calculate the absolute error:\n",
        "\n",
        "$$ \\text{Absolute Error = |Approximate Solution - Exact Solution|}.$$\n",
        "\n",
        "The code cell below defines the function we devloped in class to carry out the bisection method with one small change."
      ]
    },
    {
      "cell_type": "code",
      "execution_count": 1,
      "metadata": {
        "id": "3hYZD1Yy2PyF"
      },
      "outputs": [],
      "source": [
        "import numpy as np\n",
        "#this code block defines the function called my_bisection_method\n",
        "#INPUTS: function my_func, a, b, TOL, exact root\n",
        "#OUTPUTS: root or a error message\n",
        "def my_bisection_method(my_func,a,b,TOL,exact_root):\n",
        "  if my_func(a) == 0:\n",
        "    print(\"The root is {}\".format(a))\n",
        "    return a#this end the function\n",
        "  if my_func(b) == 0:\n",
        "    print(\"The root is {}\".format(b))\n",
        "    return b#this end the function\n",
        "  if my_func(a)*my_func(b) > 0:\n",
        "    print(\"Sign of f(a) and sign of f(b) must be opposite\")\n",
        "    return None#this end the function\n",
        "  curr_iter = 1\n",
        "  error_vec = []\n",
        "  while (b-a)/2 > TOL:#current interval divided by two bigger than tol\n",
        "    #print(\"The current iteration is {}\".format(curr_iter))\n",
        "    #print(\"The current error is = {}\".format((b-a)/2))\n",
        "    p = a + (b-a)/2\n",
        "    #compute |approximate root - exact root|\n",
        "    abs_error = np.abs(p-exact_root)\n",
        "    error_vec.append(abs_error)\n",
        "    #print(\"The approximation p_k = {}\".format(p))\n",
        "    #print(\"f(p_k) = {}\".format(my_func(p)))\n",
        "    if my_func(p)==0:\n",
        "      print(\"The root is {}\".format(p))\n",
        "      return p#this end the function\n",
        "    if my_func(a)*my_func(p)>0:\n",
        "      a = p\n",
        "    else:\n",
        "      b = p\n",
        "    curr_iter = curr_iter + 1\n",
        "  #print(\"Current error is {}\".format((b-a)/2))\n",
        "  return p, error_vec\n"
      ]
    },
    {
      "cell_type": "markdown",
      "metadata": {
        "id": "xaqXiIpY2hRJ"
      },
      "source": [
        "**Question 1:** How many inputs does the function have? What are they? How many outputs does the function have? What are they?\n",
        "\n",
        " - The function has inputs (my_func,a,b,TOL,exact_root), so five total, all required\n",
        "   - The function we're trying to find a root for\n",
        "   - The lower bound\n",
        "   - The upper bound\n",
        "   - The tolerance we're looking to get the root within\n",
        "   - The actual root we're comparing against\n",
        " - The function prototype isn't explicitly declared, but, analyzing the return statement 'return p, error_vec' we can determine that we have two outputs\n",
        "   - The independent value of the root we've found\n",
        "   - A list of error values (a vector)\n"
      ]
    },
    {
      "cell_type": "markdown",
      "metadata": {
        "id": "-VMKRW5s2qId"
      },
      "source": [
        "Next I will show you how to call a function with two outputs."
      ]
    },
    {
      "cell_type": "code",
      "execution_count": 2,
      "metadata": {
        "colab": {
          "base_uri": "https://localhost:8080/"
        },
        "id": "u1zFz7UD2xnh",
        "outputId": "eaf18d2a-aa69-44ae-a8c8-ef8d39a4ff37"
      },
      "outputs": [
        {
          "name": "stdout",
          "output_type": "stream",
          "text": [
            "The length of the error vector is 10\n"
          ]
        }
      ],
      "source": [
        "import numpy as np\n",
        "#define the inputs\n",
        "my_func = lambda x: x**2-2\n",
        "a = 0\n",
        "b = 2\n",
        "tol = .001\n",
        "exact_root = np.sqrt(2)\n",
        "#call the function\n",
        "approx_root, error_vec = my_bisection_method(my_func,a,b,tol,exact_root)\n",
        "# notice how I use two variables, approx_root and error_vec to store the output\n",
        "# since the return statement in the my_bisection_method code above says\n",
        "# return p, error_vec\n",
        "# approx_root will store p\n",
        "# and error_vec will store the error_vec the funciton assembles\n",
        "# you can print how many values are in the error_vec using the following commands\n",
        "error_vec_length = len(error_vec)\n",
        "print(\"The length of the error vector is {}\".format(error_vec_length))\n",
        "# this tells you how many iterations were done, i.e. one error val was added to\n",
        "# the vector at each iteration"
      ]
    },
    {
      "cell_type": "markdown",
      "metadata": {
        "id": "Mv9FYLUZ3jbx"
      },
      "source": [
        "**Question 2:** Is the number of iterations consistent with the theory?"
      ]
    },
    {
      "cell_type": "markdown",
      "metadata": {
        "id": "b0yOp59kL4Fv"
      },
      "source": [
        "Next we will make plots of the absolute error on the vertical axis and the iteration number on the horizontal axis.\n",
        "\n",
        "Run the code cell below to redefine the bisection method function so it carries out more iterations than needed. This way our plots will look better."
      ]
    },
    {
      "cell_type": "code",
      "execution_count": 3,
      "metadata": {
        "id": "6_WN7UnNMI-0"
      },
      "outputs": [],
      "source": [
        "import numpy as np\n",
        "#this code block defines the function called my_bisection_method\n",
        "#INPUTS: function my_func, a, b, TOL, exact root\n",
        "#OUTPUTS: root or a error message\n",
        "def my_bisection_method(my_func,a,b,TOL,exact_root,max_iter):\n",
        "  if my_func(a) == 0:\n",
        "    print(\"The root is {}\".format(a))\n",
        "    return a#this end the function\n",
        "  if my_func(b) == 0:\n",
        "    print(\"The root is {}\".format(b))\n",
        "    return b#this end the function\n",
        "  if my_func(a)*my_func(b) > 0:\n",
        "    print(\"Sign of f(a) and sign of f(b) must be opposite\")\n",
        "    return None#this end the function\n",
        "  curr_iter = 1\n",
        "  error_vec = []\n",
        "  for i in range(max_iter):#current interval divided by two bigger than tol\n",
        "    #print(\"The current iteration is {}\".format(curr_iter))\n",
        "    #print(\"The current error is = {}\".format((b-a)/2))\n",
        "    p = a + (b-a)/2\n",
        "    #compute |approximate root - exact root|\n",
        "    abs_error = np.abs(p-exact_root)\n",
        "    error_vec.append(abs_error)\n",
        "    #print(\"The approximation p_k = {}\".format(p))\n",
        "    #print(\"f(p_k) = {}\".format(my_func(p)))\n",
        "    if my_func(p)==0:\n",
        "      print(\"The root is {}\".format(p))\n",
        "      return p#this end the function\n",
        "    if my_func(a)*my_func(p)>0:\n",
        "      a = p\n",
        "    else:\n",
        "      b = p\n",
        "    curr_iter = curr_iter + 1\n",
        "  #print(\"Current error is {}\".format((b-a)/2))\n",
        "  return p, error_vec"
      ]
    },
    {
      "cell_type": "code",
      "execution_count": 4,
      "metadata": {
        "id": "ZG5tfJAkMRUm"
      },
      "outputs": [],
      "source": [
        "import numpy as np\n",
        "#define the inputs\n",
        "my_func = lambda x: x**2-2\n",
        "a = 0\n",
        "b = 2\n",
        "tol = .001\n",
        "exact_root = np.sqrt(2)\n",
        "max_iter = 30\n",
        "#call the function\n",
        "approx_root, error_vec = my_bisection_method(my_func,a,b,tol,exact_root,max_iter)"
      ]
    },
    {
      "cell_type": "code",
      "execution_count": 5,
      "metadata": {
        "colab": {
          "base_uri": "https://localhost:8080/"
        },
        "id": "gR5dlLwU7FZA",
        "outputId": "f52bfba2-7d82-4974-bfdc-2040a45d1202"
      },
      "outputs": [
        {
          "name": "stdout",
          "output_type": "stream",
          "text": [
            "[ 1  2  3  4  5  6  7  8  9 10]\n"
          ]
        }
      ],
      "source": [
        "# next we will plot the absolute error on the vertical axis and the iteration number on the horizontal axis\n",
        "import matplotlib.pyplot as plt\n",
        "# \"formula\" for making a scatterplot\n",
        "# plt.plot(x_vals, y_vals)\n",
        "# in this case the x_vals should be the set of iterations x_vals = [1,2,3,4,5,6,7,8,9,10]\n",
        "# there are many ways to make collections of numbers like this in Pyhton\n",
        "# we will keep using numpy\n",
        "x_vals = np.arange(1,11)\n",
        "print(x_vals)\n",
        "# notice it leaves off the last number"
      ]
    },
    {
      "cell_type": "code",
      "execution_count": 6,
      "metadata": {
        "colab": {
          "base_uri": "https://localhost:8080/",
          "height": 519
        },
        "id": "P1jSInoW73cK",
        "outputId": "2a26f97a-59e2-41c4-fc19-2f288c4d20d8"
      },
      "outputs": [
        {
          "name": "stdout",
          "output_type": "stream",
          "text": [
            "[ 1  2  3  4  5  6  7  8  9 10 11 12 13 14 15 16 17 18 19 20 21 22 23 24\n",
            " 25 26 27 28 29 30]\n"
          ]
        },
        {
          "data": {
            "text/plain": [
              "Text(0, 0.5, 'Absolute Error')"
            ]
          },
          "execution_count": 6,
          "metadata": {},
          "output_type": "execute_result"
        },
        {
          "data": {
            "image/png": "[encoded data removed]",
            "text/plain": [
              "<Figure size 640x480 with 1 Axes>"
            ]
          },
          "metadata": {},
          "output_type": "display_data"
        }
      ],
      "source": [
        "# the best way to set up this vector is below\n",
        "x_vals = np.arange(1,len(error_vec)+1)#the len(error_vec) function returns the # of things in the error_vec array\n",
        "print(x_vals)\n",
        "# now we make the plot\n",
        "plt.scatter(x_vals, error_vec)\n",
        "# add some titles so we know what we are looking at\n",
        "plt.xlabel(\"Iteration Number\")\n",
        "plt.ylabel(\"Absolute Error\")"
      ]
    },
    {
      "cell_type": "markdown",
      "metadata": {
        "id": "kZFd5W0Q87T-"
      },
      "source": [
        "As expected, the absolute error follows an exponentially decreasing trend. Namely, $\\frac{b-a}{2^n}$.\n",
        "\n",
        "Notice that it isn’t a completely smooth curve since we will have some jumps in the accuracy just due to the fact that sometimes the root will be near the midpoint of the interval and sometimes it won’t be."
      ]
    },
    {
      "cell_type": "code",
      "execution_count": 7,
      "metadata": {
        "colab": {
          "base_uri": "https://localhost:8080/",
          "height": 486
        },
        "id": "2J4vhWcy8I3x",
        "outputId": "18cfd6f9-59b6-4a04-8157-d04fd78827b6"
      },
      "outputs": [
        {
          "data": {
            "text/plain": [
              "<matplotlib.legend.Legend at 0x10b85cfe0>"
            ]
          },
          "execution_count": 7,
          "metadata": {},
          "output_type": "execute_result"
        },
        {
          "data": {
            "image/png": "[encoded data removed]",
            "text/plain": [
              "<Figure size 640x480 with 1 Axes>"
            ]
          },
          "metadata": {},
          "output_type": "display_data"
        }
      ],
      "source": [
        "# we can add the theoretical curve to our plot\n",
        "a = 0\n",
        "b = 2\n",
        "error_func = lambda n: (b-a)/(2**n)\n",
        "# now we make the plot with the error vals we computed vs. this function\n",
        "plt.scatter(x_vals, error_vec,label = \"Actual\", marker = '*', color = 'r')\n",
        "# I added a label so we could make a legend, we can also specify the marker type and color\n",
        "smooth_x_vals = np.linspace(1,max_iter,100)\n",
        "plt.plot(smooth_x_vals, error_func(smooth_x_vals), label = \"Expected\", color = 'b')\n",
        "plt.xlabel(\"Iteration Number\")\n",
        "plt.ylabel(\"Absolute Error\")\n",
        "# this uses the labels I defined in the plot call above\n",
        "plt.legend()\n"
      ]
    },
    {
      "cell_type": "markdown",
      "metadata": {
        "id": "nYXZjw4J78z_"
      },
      "source": [
        "Without the theory, it would be really hard to determine what the exact behavior is in the exponential plot above. We know that the error will divide by 2 at every step, so if we instead plot\n",
        "\n",
        "$$log_2(\\texttt{error\\_vec})$$\n",
        "\n",
        "against the iteration number we should see a linear trend."
      ]
    },
    {
      "cell_type": "code",
      "execution_count": 8,
      "metadata": {
        "colab": {
          "base_uri": "https://localhost:8080/",
          "height": 486
        },
        "id": "kyLzAsV4-SgM",
        "outputId": "b37d9164-887c-4186-c7b0-f4fd0c1f5970"
      },
      "outputs": [
        {
          "data": {
            "text/plain": [
              "Text(0, 0.5, 'log_2(Absolute Error)')"
            ]
          },
          "execution_count": 8,
          "metadata": {},
          "output_type": "execute_result"
        },
        {
          "data": {
            "image/png": "[encoded data removed]",
            "text/plain": [
              "<Figure size 640x480 with 1 Axes>"
            ]
          },
          "metadata": {},
          "output_type": "display_data"
        }
      ],
      "source": [
        "plt.scatter(x_vals, np.log2(error_vec))\n",
        "# Add grid lines\n",
        "plt.grid(True)\n",
        "plt.xlabel(\"Iteration Number\")\n",
        "plt.ylabel(\"log_2(Absolute Error)\")"
      ]
    },
    {
      "cell_type": "markdown",
      "metadata": {
        "id": "Bz2Reo9O-sMc"
      },
      "source": [
        "**Question 3:** What is the slope of the line in the plot above (estimate it)? Why does that slope make sense?"
      ]
    },
    {
      "cell_type": "markdown",
      "metadata": {
        "id": "dHqSc8KB-_c0"
      },
      "source": [
        "Another plot we can use to determine how an algorithm is behaving as it progresses is to compare the absolute error at iteration $k$ to the absolute error at iteration $k + 1$.\n",
        "\n",
        "Run the code below to print the lenght of the $\\texttt{error\\_vec}$."
      ]
    },
    {
      "cell_type": "code",
      "execution_count": 9,
      "metadata": {
        "colab": {
          "base_uri": "https://localhost:8080/"
        },
        "id": "uZLPnAL3NYQV",
        "outputId": "1e75b1ac-4eb7-4bf7-c14c-c6fef39556df"
      },
      "outputs": [
        {
          "name": "stdout",
          "output_type": "stream",
          "text": [
            "30\n"
          ]
        }
      ],
      "source": [
        "print(len(error_vec))"
      ]
    },
    {
      "cell_type": "code",
      "execution_count": 10,
      "metadata": {
        "colab": {
          "base_uri": "https://localhost:8080/"
        },
        "id": "n_FpnhBP--SS",
        "outputId": "4b4e1a2d-8541-443a-de56-022914009bf2"
      },
      "outputs": [
        {
          "name": "stdout",
          "output_type": "stream",
          "text": [
            "29\n"
          ]
        }
      ],
      "source": [
        "# let's learn how to pull out values at certain indices of a vector like error_vec\n",
        "error_at_k = error_vec[0:len(error_vec)-1]#this pulls out the first 29 values\n",
        "# Note that: 1) we start at 0 not 1, so the indices of the vector go from 0-29\n",
        "# in python this code will go up to but not include the value in the 29th and last index\n",
        "print(len(error_at_k))"
      ]
    },
    {
      "cell_type": "markdown",
      "metadata": {
        "id": "hfuhbsgX_XsW"
      },
      "source": [
        "**Question 4:** How would you pull out the first five values?"
      ]
    },
    {
      "cell_type": "markdown",
      "metadata": {
        "id": "uIZfSeB0_vbS"
      },
      "source": [
        "**Question 5:** Make a vector called $\\texttt{error\\_at\\_k\\_plus\\_1}$ with the last 9 values of $\\texttt{error\\_vec}$."
      ]
    },
    {
      "cell_type": "code",
      "execution_count": 11,
      "metadata": {
        "colab": {
          "base_uri": "https://localhost:8080/"
        },
        "id": "ZuKffpet_5XL",
        "outputId": "01d8aca1-7e1d-48bb-9580-4c1f18012751"
      },
      "outputs": [
        {
          "name": "stdout",
          "output_type": "stream",
          "text": [
            "29\n"
          ]
        }
      ],
      "source": [
        "error_at_k_plus_1 = error_vec[1:len(error_vec)]\n",
        "print(len(error_at_k_plus_1))"
      ]
    },
    {
      "cell_type": "markdown",
      "metadata": {
        "id": "Rjjb5F7WODMu"
      },
      "source": [
        "**Question 6:** Which values does the line above pull out?"
      ]
    },
    {
      "cell_type": "code",
      "execution_count": 14,
      "metadata": {
        "colab": {
          "base_uri": "https://localhost:8080/",
          "height": 486
        },
        "id": "zA2QrRC6BARz",
        "outputId": "0e742e38-8b69-45b6-cee2-7dc47036767b"
      },
      "outputs": [
        {
          "data": {
            "text/plain": [
              "Text(0, 0.5, 'log2(Error at step k+1)')"
            ]
          },
          "execution_count": 14,
          "metadata": {},
          "output_type": "execute_result"
        },
        {
          "data": {
            "image/png": "[encoded data removed]",
            "text/plain": [
              "<Figure size 640x480 with 1 Axes>"
            ]
          },
          "metadata": {},
          "output_type": "display_data"
        }
      ],
      "source": [
        "# write code to plot error_at_k_plus_1 vs. error_at_k\n",
        "x = np.log2(error_at_k)\n",
        "y = np.log2(error_at_k_plus_1)\n",
        "plt.scatter(x, y)\n",
        "# Add grid lines\n",
        "plt.grid(True)\n",
        "best_fit_m, best_fit_b = np.polyfit(x, y, 1)\n",
        "best_fit_equation = best_fit_m * x + b\n",
        "plt.plot(x, best_fit_equation, color='red')\n",
        "plt.xlabel(\"log2(Error at step k)\")\n",
        "plt.ylabel(\"log2(Error at step k+1)\")"
      ]
    },
    {
      "cell_type": "markdown",
      "metadata": {
        "id": "wIKrG2U2OoLj"
      },
      "source": [
        "**Question 7** Interpret the graph above."
      ]
    },
    {
      "cell_type": "markdown",
      "metadata": {},
      "source": [
        "I've gone ahead and added a best fit line to show that the relationship is linear\n",
        "\n",
        " - We're modeling as the independent variable, the current step, and the dependent variable as the subsequent step\n",
        " - We're showing that the rate of convergence is logarithmic, that each time we iterate we're halving the search space for our root"
      ]
    }
  ],
  "metadata": {
    "colab": {
      "provenance": []
    },
    "kernelspec": {
      "display_name": "Python 3",
      "name": "python3"
    },
    "language_info": {
      "codemirror_mode": {
        "name": "ipython",
        "version": 3
      },
      "file_extension": ".py",
      "mimetype": "text/x-python",
      "name": "python",
      "nbconvert_exporter": "python",
      "pygments_lexer": "ipython3",
      "version": "3.12.5"
    }
  },
  "nbformat": 4,
  "nbformat_minor": 0
}
