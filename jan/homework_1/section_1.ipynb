{
  "nbformat": 4,
  "nbformat_minor": 0,
  "metadata": {
    "colab": {
      "provenance": []
    },
    "kernelspec": {
      "name": "python3",
      "display_name": "Python 3"
    },
    "language_info": {
      "name": "python"
    }
  },
  "cells": [
    {
      "cell_type": "code",
      "execution_count": 1,
      "metadata": {
        "id": "sPWMdV9TnDMv"
      },
      "outputs": [],
      "source": [
        "#Code CELL #1\n",
        "import sympy\n",
        "def compute_tangent_line(my_func, x0):\n",
        "  x = sympy.Symbol('x')\n",
        "  # Convert the lambda function to a symbolic expression\n",
        "  func_expr = sympy.sympify(my_func(x))\n",
        "  # Evaluate my_func at the given point\n",
        "  y0 = my_func(x0)\n",
        "  # Compute the derivative of my_func symbolically\n",
        "  m = sympy.diff(func_expr, x).subs(x, x0)\n",
        "  # Define function object for equation of tangent line\n",
        "  tangent_line = lambda x_val: m * (x_val - x0) + y0\n",
        "  return tangent_line\n"
      ]
    },
    {
      "cell_type": "markdown",
      "source": [
        "We're defining a function 'compute_tangent_line', it's return values and types aren't explicitly declared, but given the naming we can assertain that the first argument is a function that takes and returns a single floating point value, that the second is a point $x_0$, a value x from which to cast the tangent line.\n",
        "\n",
        "Reading further we can assertain the return type to be a function, a line, that takes and returns singular floating points"
      ],
      "metadata": {
        "id": "BZQQCm1hJUKS"
      }
    },
    {
      "cell_type": "markdown",
      "source": [],
      "metadata": {
        "id": "lSlD9XlrN9z8"
      }
    },
    {
      "cell_type": "markdown",
      "source": [
        "We're modeling the function\n",
        "$$f(x)=\\frac{1}{2}x(x-2)(x+2)$$\n",
        "\n",
        "And calling 'compute_tangent_line' with $x_0 = -1.5$ and the function defined input"
      ],
      "metadata": {
        "id": "d-QMignwKXHr"
      }
    },
    {
      "cell_type": "code",
      "source": [
        "#Code CELL #2\n",
        "\n",
        "cubic_function = lambda x : (1/2)*x*(x-2)*(x+2)\n",
        "tangent_line_func = compute_tangent_line(cubic_function, -1.5)"
      ],
      "metadata": {
        "id": "jFPy8nb2p8yE"
      },
      "execution_count": 3,
      "outputs": []
    },
    {
      "cell_type": "markdown",
      "source": [
        "Now were going to evaluate at $x=10$"
      ],
      "metadata": {
        "id": "aOkZX7MzOB1I"
      }
    },
    {
      "cell_type": "code",
      "source": [
        "#Code CELL #3\n",
        "\n",
        "tangent_line_func(10)"
      ],
      "metadata": {
        "id": "UEYVxT-rrYOv",
        "colab": {
          "base_uri": "https://localhost:8080/",
          "height": 37
        },
        "outputId": "50c6e38a-59cd-43e1-c8b7-80cd78d7e5b7"
      },
      "execution_count": 4,
      "outputs": [
        {
          "output_type": "execute_result",
          "data": {
            "text/plain": [
              "17.1250000000000"
            ],
            "text/latex": "$\\displaystyle 17.125$"
          },
          "metadata": {},
          "execution_count": 4
        }
      ]
    },
    {
      "cell_type": "code",
      "source": [
        "#Code CELL #4\n",
        "import numpy as np\n",
        "import matplotlib.pyplot as plt\n",
        "\n",
        "x_vals = np.linspace(0,2,5)\n",
        "\n",
        "print(x_vals)\n"
      ],
      "metadata": {
        "colab": {
          "base_uri": "https://localhost:8080/"
        },
        "id": "IHFv99q_vfAJ",
        "outputId": "7e5ed74f-6d07-4623-ceff-51e4b121bc5a"
      },
      "execution_count": 10,
      "outputs": [
        {
          "output_type": "stream",
          "name": "stdout",
          "text": [
            "[0.  0.5 1.  1.5 2. ]\n"
          ]
        }
      ]
    },
    {
      "cell_type": "code",
      "source": [
        "x_vals = np.linspace(-3, 3, 100)\n",
        "\n",
        "tan_y_vals = tangent_line_func(x_vals)\n",
        "\n",
        "plt.plot(x_vals, tan_y_vals)\n",
        "\n",
        "#Computing the tangent line instead now for -3\n",
        "tangent_line_func = compute_tangent_line(cubic_function, -3)\n",
        "plt.plot(x_vals, tangent_line_func(x_vals))"
      ],
      "metadata": {
        "colab": {
          "base_uri": "https://localhost:8080/",
          "height": 448
        },
        "id": "CoOl4MP3xWtJ",
        "outputId": "2b64bc92-84c9-40a1-ab25-180608f04f7b"
      },
      "execution_count": 17,
      "outputs": [
        {
          "output_type": "execute_result",
          "data": {
            "text/plain": [
              "[<matplotlib.lines.Line2D at 0x7a8bd016bed0>]"
            ]
          },
          "metadata": {},
          "execution_count": 17
        },
        {
          "output_type": "display_data",
          "data": {
            "text/plain": [
              "<Figure size 640x480 with 1 Axes>"
            ],
            "image/png": "[encoded data removed]"
          },
          "metadata": {}
        }
      ]
    }
  ]
}