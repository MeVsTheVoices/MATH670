{
  "cells": [
    {
      "cell_type": "markdown",
      "metadata": {},
      "source": [
        "# Section 1 - Python code review"
      ]
    },
    {
      "cell_type": "markdown",
      "metadata": {},
      "source": [
        "#### Question (i)\n",
        "\n",
        "**(i)** This is a copy of the Python Code Review notebook"
      ]
    },
    {
      "cell_type": "code",
      "execution_count": 1,
      "metadata": {
        "id": "sPWMdV9TnDMv"
      },
      "outputs": [],
      "source": [
        "#Code CELL #1\n",
        "import sympy\n",
        "def compute_tangent_line(my_func, x0):\n",
        "  x = sympy.Symbol('x')\n",
        "  # Convert the lambda function to a symbolic expression\n",
        "  func_expr = sympy.sympify(my_func(x))\n",
        "  # Evaluate my_func at the given point\n",
        "  y0 = my_func(x0)\n",
        "  # Compute the derivative of my_func symbolically\n",
        "  m = sympy.diff(func_expr, x).subs(x, x0)\n",
        "  # Define function object for equation of tangent line\n",
        "  tangent_line = lambda x_val: m * (x_val - x0) + y0\n",
        "  return tangent_line\n"
      ]
    },
    {
      "cell_type": "markdown",
      "metadata": {
        "id": "BZQQCm1hJUKS"
      },
      "source": [
        "#### Question (ii)\n",
        "\n",
        "**(ii)** We're defining a function 'compute_tangent_line', it's return values and types aren't explicitly declared, but given the naming we can assertain that the first argument is a function that takes and returns a single floating point value, that the second is a point $x_0$, a value x from which to cast the tangent line.\n",
        "\n",
        "Reading further we can assertain the return type to be a function, a line, that takes and returns singular floating points"
      ]
    },
    {
      "cell_type": "markdown",
      "metadata": {
        "id": "d-QMignwKXHr"
      },
      "source": [
        "#### Question (iii)\n",
        "\n",
        "**(iii)** We're modeling the function\n",
        "$$f(x)=\\frac{1}{2}x(x-2)(x+2)$$\n",
        "\n",
        "And calling 'compute_tangent_line' with $x_0 = -1.5$ and the function defined input"
      ]
    },
    {
      "cell_type": "code",
      "execution_count": 2,
      "metadata": {
        "id": "jFPy8nb2p8yE"
      },
      "outputs": [],
      "source": [
        "#Code CELL #2\n",
        "\n",
        "cubic_function = lambda x : (1/2)*x*(x-2)*(x+2)\n",
        "tangent_line_func = compute_tangent_line(cubic_function, -1.5)"
      ]
    },
    {
      "cell_type": "markdown",
      "metadata": {
        "id": "aOkZX7MzOB1I"
      },
      "source": [
        "#### Question (iv)\n",
        "\n",
        "**(iv)** Now were going to evaluate at $x=10$"
      ]
    },
    {
      "cell_type": "code",
      "execution_count": 3,
      "metadata": {
        "colab": {
          "base_uri": "https://localhost:8080/",
          "height": 37
        },
        "id": "UEYVxT-rrYOv",
        "outputId": "50c6e38a-59cd-43e1-c8b7-80cd78d7e5b7"
      },
      "outputs": [
        {
          "data": {
            "text/latex": [
              "$\\displaystyle 17.125$"
            ],
            "text/plain": [
              "17.1250000000000"
            ]
          },
          "execution_count": 3,
          "metadata": {},
          "output_type": "execute_result"
        }
      ],
      "source": [
        "#Code CELL #3\n",
        "\n",
        "tangent_line_func(10)"
      ]
    },
    {
      "cell_type": "markdown",
      "metadata": {},
      "source": [
        "#### Question (v)\n",
        "\n",
        "**(v)** This illustrates the use of numpy's linspace to generate a range"
      ]
    },
    {
      "cell_type": "code",
      "execution_count": 1,
      "metadata": {
        "colab": {
          "base_uri": "https://localhost:8080/"
        },
        "id": "IHFv99q_vfAJ",
        "outputId": "7e5ed74f-6d07-4623-ceff-51e4b121bc5a"
      },
      "outputs": [
        {
          "name": "stdout",
          "output_type": "stream",
          "text": [
            "[0.  0.5 1.  1.5 2. ]\n"
          ]
        }
      ],
      "source": [
        "#Code CELL #4\n",
        "import numpy as np\n",
        "import matplotlib.pyplot as plt\n",
        "\n",
        "x_vals = np.linspace(0,2,5)\n",
        "\n",
        "print(x_vals)\n"
      ]
    },
    {
      "cell_type": "markdown",
      "metadata": {},
      "source": [
        "#### Question (vi)\n",
        "\n",
        "**(vi)** Lastly, we're going to take what's done so far and apply it to a different set of numbers\n",
        " - We're generate a new set of x values, between -3, 3, 100 samples\n",
        " - We generate a line on our plot using the initial intercept of $x=-1.5$\n",
        " - We then compute a new tangent line from $x=-3$\n",
        " - Then plot that over the same range of x values"
      ]
    },
    {
      "cell_type": "code",
      "execution_count": 5,
      "metadata": {
        "colab": {
          "base_uri": "https://localhost:8080/",
          "height": 448
        },
        "id": "CoOl4MP3xWtJ",
        "outputId": "2b64bc92-84c9-40a1-ab25-180608f04f7b"
      },
      "outputs": [
        {
          "data": {
            "text/plain": [
              "[<matplotlib.lines.Line2D at 0x106830380>]"
            ]
          },
          "execution_count": 5,
          "metadata": {},
          "output_type": "execute_result"
        },
        {
          "data": {
            "image/png": "[encoded data removed]",
            "text/plain": [
              "<Figure size 640x480 with 1 Axes>"
            ]
          },
          "metadata": {},
          "output_type": "display_data"
        }
      ],
      "source": [
        "x_vals = np.linspace(-3, 3, 100)\n",
        "\n",
        "tan_y_vals = tangent_line_func(x_vals)\n",
        "\n",
        "plt.plot(x_vals, tan_y_vals)\n",
        "\n",
        "#Computing the tangent line instead now for -3\n",
        "tangent_line_func = compute_tangent_line(cubic_function, -3)\n",
        "plt.plot(x_vals, tangent_line_func(x_vals))"
      ]
    }
  ],
  "metadata": {
    "colab": {
      "provenance": []
    },
    "kernelspec": {
      "display_name": ".venv",
      "language": "python",
      "name": "python3"
    },
    "language_info": {
      "codemirror_mode": {
        "name": "ipython",
        "version": 3
      },
      "file_extension": ".py",
      "mimetype": "text/x-python",
      "name": "python",
      "nbconvert_exporter": "python",
      "pygments_lexer": "ipython3",
      "version": "3.12.6"
    }
  },
  "nbformat": 4,
  "nbformat_minor": 0
}
