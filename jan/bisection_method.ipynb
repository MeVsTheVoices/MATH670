{
 "cells": [
  {
   "cell_type": "code",
   "execution_count": 10,
   "metadata": {},
   "outputs": [
    {
     "name": "stdout",
     "output_type": "stream",
     "text": [
      "5.0\n",
      "7.5\n",
      "6.25\n",
      "6.875\n",
      "7.1875\n",
      "7.03125\n",
      "7.109375\n",
      "7.0703125\n",
      "7.08984375\n",
      "7.080078125\n",
      "7.0751953125\n",
      "7.07275390625\n",
      "7.071533203125\n",
      "7.0709228515625\n",
      "7.07122802734375\n",
      "7.071075439453125\n"
     ]
    }
   ],
   "source": [
    "def bisection_method(\n",
    "        f, \n",
    "        a : float, \n",
    "        b : float,\n",
    "        tolerance : float) -> float:\n",
    "\n",
    "    if a == b and (not abs(f(a)) < tolerance):\n",
    "        return None\n",
    "\n",
    "    a, b = (a, b) if a < b else (b, a)\n",
    "\n",
    "    guess = bisect(a, b)\n",
    "    while abs(f(guess)) > tolerance:\n",
    "        print(guess)\n",
    "        if f(guess) > 0:\n",
    "            b = guess\n",
    "        elif f(guess) < 0:\n",
    "            a = guess\n",
    "        guess = bisect(a, b)\n",
    "            \n",
    "\n",
    "    return guess\n",
    "\n",
    "\n",
    "def bisect(a : float, b : float) -> float:\n",
    "    return a + ((b - a) / 2)\n",
    "\n",
    "print(bisection_method(lambda x : (x ** 2) - 50, 0, 10, .0005))"
   ]
  }
 ],
 "metadata": {
  "kernelspec": {
   "display_name": "Python 3",
   "language": "python",
   "name": "python3"
  },
  "language_info": {
   "codemirror_mode": {
    "name": "ipython",
    "version": 3
   },
   "file_extension": ".py",
   "mimetype": "text/x-python",
   "name": "python",
   "nbconvert_exporter": "python",
   "pygments_lexer": "ipython3",
   "version": "3.12.5"
  }
 },
 "nbformat": 4,
 "nbformat_minor": 2
}
