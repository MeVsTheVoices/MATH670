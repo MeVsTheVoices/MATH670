{
 "cells": [
  {
   "cell_type": "code",
   "execution_count": 5,
   "metadata": {},
   "outputs": [
    {
     "name": "stdout",
     "output_type": "stream",
     "text": [
      "7.071075439453125\n"
     ]
    }
   ],
   "source": [
    "from typing import Callable\n",
    "from math import sin, log, exp\n",
    "\n",
    "def bisection_method(\n",
    "        f: Callable[[float], float],\n",
    "        a : float, \n",
    "        b : float,\n",
    "        tolerance : float) -> float:\n",
    "\n",
    "    if a == b and (not abs(f(a)) < tolerance):\n",
    "        return None\n",
    "\n",
    "    a, b = (a, b) if a < b else (b, a)\n",
    "\n",
    "    guesses : list[tuple[float, float]] = []\n",
    "\n",
    "    guess = bisect(a, b)\n",
    "    while abs(f(guess)) > tolerance:\n",
    "        guesses.append((guess, f(guess)))\n",
    "        if f(guess) > 0:\n",
    "            b = guess\n",
    "        elif f(guess) < 0:\n",
    "            a = guess\n",
    "        guess = bisect(a, b)\n",
    "            \n",
    "\n",
    "    return guesses\n",
    "\n",
    "\n",
    "def bisect(a : float, b : float) -> float:\n",
    "    return a + ((b - a) / 2)\n",
    "\n",
    "import matplotlib.pyplot\n",
    "\n",
    "func_pow = lambda x : ( x ** 2) - 2\n",
    "func_sin = sin\n",
    "func_log = log\n",
    "func_exp = exp\n",
    "\n",
    "guesses_exp = bisection_method(func_pow, 0, 2, .005)\n",
    "print(guesses_exp)\n",
    "\n",
    "print(bisection_method(lambda x : (x ** 2) - 50, 0, 10, .0005))\n",
    "\n"
   ]
  }
 ],
 "metadata": {
  "kernelspec": {
   "display_name": "Python 3",
   "language": "python",
   "name": "python3"
  },
  "language_info": {
   "codemirror_mode": {
    "name": "ipython",
    "version": 3
   },
   "file_extension": ".py",
   "mimetype": "text/x-python",
   "name": "python",
   "nbconvert_exporter": "python",
   "pygments_lexer": "ipython3",
   "version": "3.8.10"
  }
 },
 "nbformat": 4,
 "nbformat_minor": 2
}
